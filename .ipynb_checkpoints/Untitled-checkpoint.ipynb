{
 "cells": [
  {
   "cell_type": "code",
   "execution_count": 1,
   "id": "af2e13a3",
   "metadata": {},
   "outputs": [],
   "source": [
    "import yfinance as yf\n",
    "import pandas as pd\n",
    "import numpy as np\n",
    "import datetime\n",
    "import dateutil"
   ]
  },
  {
   "cell_type": "code",
   "execution_count": 7,
   "id": "04aabd29",
   "metadata": {},
   "outputs": [
    {
     "name": "stdout",
     "output_type": "stream",
     "text": [
      "[*********************100%***********************]  1 of 1 completed\n"
     ]
    },
    {
     "data": {
      "text/plain": [
       "Date\n",
       "2021-02-22    87.904358\n",
       "2021-02-23    84.208595\n",
       "2021-02-24    84.600723\n",
       "2021-02-25    83.326317\n",
       "2021-02-26    80.385391\n",
       "                ...    \n",
       "2023-02-13     1.130000\n",
       "2023-02-14     1.110000\n",
       "2023-02-15     1.130000\n",
       "2023-02-16     1.220000\n",
       "2023-02-17     1.170000\n",
       "Name: Adj Close, Length: 500, dtype: float64"
      ]
     },
     "execution_count": 7,
     "metadata": {},
     "output_type": "execute_result"
    }
   ],
   "source": [
    "\n",
    "start_date = datetime.date.today() - dateutil.relativedelta.relativedelta(years=2)\n",
    "end_date = datetime.date.today()\n",
    "\n",
    "df = yf.download(\"AMER3.SA\", start=start_date, end=end_date)\n",
    "df = df.loc[:,\"Adj Close\"]\n",
    "df"
   ]
  },
  {
   "cell_type": "code",
   "execution_count": 8,
   "id": "0871acbf",
   "metadata": {},
   "outputs": [],
   "source": [
    "df = df.to_frame()\n",
    "df['Adj Close'].isna().sum()\n",
    "df = df.dropna()\n",
    "df = df.rename(columns={'Adj Close': 'AdjClose'})"
   ]
  },
  {
   "cell_type": "code",
   "execution_count": 9,
   "id": "a41a5305",
   "metadata": {},
   "outputs": [
    {
     "data": {
      "text/html": [
       "<div>\n",
       "<style scoped>\n",
       "    .dataframe tbody tr th:only-of-type {\n",
       "        vertical-align: middle;\n",
       "    }\n",
       "\n",
       "    .dataframe tbody tr th {\n",
       "        vertical-align: top;\n",
       "    }\n",
       "\n",
       "    .dataframe thead th {\n",
       "        text-align: right;\n",
       "    }\n",
       "</style>\n",
       "<table border=\"1\" class=\"dataframe\">\n",
       "  <thead>\n",
       "    <tr style=\"text-align: right;\">\n",
       "      <th></th>\n",
       "      <th>AdjClose</th>\n",
       "    </tr>\n",
       "    <tr>\n",
       "      <th>Date</th>\n",
       "      <th></th>\n",
       "    </tr>\n",
       "  </thead>\n",
       "  <tbody>\n",
       "    <tr>\n",
       "      <th>2021-02-22</th>\n",
       "      <td>87.904358</td>\n",
       "    </tr>\n",
       "    <tr>\n",
       "      <th>2021-02-23</th>\n",
       "      <td>84.208595</td>\n",
       "    </tr>\n",
       "    <tr>\n",
       "      <th>2021-02-24</th>\n",
       "      <td>84.600723</td>\n",
       "    </tr>\n",
       "    <tr>\n",
       "      <th>2021-02-25</th>\n",
       "      <td>83.326317</td>\n",
       "    </tr>\n",
       "    <tr>\n",
       "      <th>2021-02-26</th>\n",
       "      <td>80.385391</td>\n",
       "    </tr>\n",
       "    <tr>\n",
       "      <th>...</th>\n",
       "      <td>...</td>\n",
       "    </tr>\n",
       "    <tr>\n",
       "      <th>2023-02-13</th>\n",
       "      <td>1.130000</td>\n",
       "    </tr>\n",
       "    <tr>\n",
       "      <th>2023-02-14</th>\n",
       "      <td>1.110000</td>\n",
       "    </tr>\n",
       "    <tr>\n",
       "      <th>2023-02-15</th>\n",
       "      <td>1.130000</td>\n",
       "    </tr>\n",
       "    <tr>\n",
       "      <th>2023-02-16</th>\n",
       "      <td>1.220000</td>\n",
       "    </tr>\n",
       "    <tr>\n",
       "      <th>2023-02-17</th>\n",
       "      <td>1.170000</td>\n",
       "    </tr>\n",
       "  </tbody>\n",
       "</table>\n",
       "<p>500 rows × 1 columns</p>\n",
       "</div>"
      ],
      "text/plain": [
       "             AdjClose\n",
       "Date                 \n",
       "2021-02-22  87.904358\n",
       "2021-02-23  84.208595\n",
       "2021-02-24  84.600723\n",
       "2021-02-25  83.326317\n",
       "2021-02-26  80.385391\n",
       "...               ...\n",
       "2023-02-13   1.130000\n",
       "2023-02-14   1.110000\n",
       "2023-02-15   1.130000\n",
       "2023-02-16   1.220000\n",
       "2023-02-17   1.170000\n",
       "\n",
       "[500 rows x 1 columns]"
      ]
     },
     "execution_count": 9,
     "metadata": {},
     "output_type": "execute_result"
    }
   ],
   "source": [
    "df"
   ]
  },
  {
   "cell_type": "code",
   "execution_count": 12,
   "id": "3eeb94bb",
   "metadata": {},
   "outputs": [
    {
     "name": "stderr",
     "output_type": "stream",
     "text": [
      "C:\\Users\\mathe\\AppData\\Local\\Temp\\ipykernel_7896\\5789978.py:1: SettingWithCopyWarning: \n",
      "A value is trying to be set on a copy of a slice from a DataFrame.\n",
      "Try using .loc[row_indexer,col_indexer] = value instead\n",
      "\n",
      "See the caveats in the documentation: https://pandas.pydata.org/pandas-docs/stable/user_guide/indexing.html#returning-a-view-versus-a-copy\n",
      "  df['dis_ret'] = df.AdjClose.pct_change()\n",
      "C:\\Users\\mathe\\AppData\\Local\\Temp\\ipykernel_7896\\5789978.py:2: SettingWithCopyWarning: \n",
      "A value is trying to be set on a copy of a slice from a DataFrame.\n",
      "Try using .loc[row_indexer,col_indexer] = value instead\n",
      "\n",
      "See the caveats in the documentation: https://pandas.pydata.org/pandas-docs/stable/user_guide/indexing.html#returning-a-view-versus-a-copy\n",
      "  df['log_ret'] = np.log(df.AdjClose/df.AdjClose.shift(1))\n"
     ]
    }
   ],
   "source": [
    "df['dis_ret'] = df.AdjClose.pct_change()\n",
    "df['log_ret'] = np.log(df.AdjClose/df.AdjClose.shift(1))\n",
    "#df['dis_ret'] = np.exp(df.log_ret)-1\n",
    "\n",
    "df = df.dropna()"
   ]
  },
  {
   "cell_type": "code",
   "execution_count": 14,
   "id": "747ed2c1",
   "metadata": {},
   "outputs": [
    {
     "name": "stdout",
     "output_type": "stream",
     "text": [
      "        Date   AdjClose   log_ret  dis_ret1  dis_ret2   dis_ret\n",
      "0 2021-02-24  84.600723  0.004646  0.004657  0.004657  0.004657\n",
      "1 2021-02-25  83.326317 -0.015178 -0.015064 -0.015064 -0.015064\n",
      "2 2021-02-26  80.385391 -0.035932 -0.035294 -0.035294 -0.035294\n",
      "3 2021-03-01  79.140396 -0.015609 -0.015488 -0.015488 -0.015488\n",
      "4 2021-03-02  77.042526 -0.026866 -0.026508 -0.026508 -0.026508\n",
      "################\n",
      "          Date  AdjClose   log_ret  dis_ret1  dis_ret2   dis_ret\n",
      "493 2023-02-13      1.13  0.026907  0.027273  0.027273  0.027273\n",
      "494 2023-02-14      1.11 -0.017858 -0.017699 -0.017699 -0.017699\n",
      "495 2023-02-15      1.13  0.017858  0.018018  0.018018  0.018018\n",
      "496 2023-02-16      1.22  0.076633  0.079646  0.079646  0.079646\n",
      "497 2023-02-17      1.17 -0.041847 -0.040984 -0.040984 -0.040984\n"
     ]
    }
   ],
   "source": [
    "df = df.reset_index()\n",
    "print(df.head(5))\n",
    "print(\"################\")\n",
    "print(df.tail(5))"
   ]
  },
  {
   "cell_type": "code",
   "execution_count": null,
   "id": "4d4f3a51",
   "metadata": {},
   "outputs": [],
   "source": [
    "logret.w <- apply.weekly(logret,sum)\n",
    "logret.m <- apply.monthly(logret,sum)\n",
    "logret.q <- apply.quarterly(logret,sum)\n",
    "logret.y <- apply.yearly(logret,sum)"
   ]
  },
  {
   "cell_type": "code",
   "execution_count": 21,
   "id": "292aea31",
   "metadata": {},
   "outputs": [],
   "source": [
    "df_w = df.groupby([pd.Grouper(key='Date', freq='W')])['log_ret'].sum().to_frame()\n",
    "df_m = df.groupby([pd.Grouper(key='Date', freq='M')])['log_ret'].sum().to_frame()\n",
    "df_q = df.groupby([pd.Grouper(key='Date', freq='Q')])['log_ret'].sum().to_frame()\n",
    "df_y = df.groupby([pd.Grouper(key='Date', freq='Y')])['log_ret'].sum().to_frame()"
   ]
  },
  {
   "cell_type": "code",
   "execution_count": 23,
   "id": "6be7db78",
   "metadata": {},
   "outputs": [
    {
     "data": {
      "text/html": [
       "<div>\n",
       "<style scoped>\n",
       "    .dataframe tbody tr th:only-of-type {\n",
       "        vertical-align: middle;\n",
       "    }\n",
       "\n",
       "    .dataframe tbody tr th {\n",
       "        vertical-align: top;\n",
       "    }\n",
       "\n",
       "    .dataframe thead th {\n",
       "        text-align: right;\n",
       "    }\n",
       "</style>\n",
       "<table border=\"1\" class=\"dataframe\">\n",
       "  <thead>\n",
       "    <tr style=\"text-align: right;\">\n",
       "      <th></th>\n",
       "      <th>log_ret</th>\n",
       "    </tr>\n",
       "    <tr>\n",
       "      <th>Date</th>\n",
       "      <th></th>\n",
       "    </tr>\n",
       "  </thead>\n",
       "  <tbody>\n",
       "    <tr>\n",
       "      <th>2021-12-31</th>\n",
       "      <td>-1.000660</td>\n",
       "    </tr>\n",
       "    <tr>\n",
       "      <th>2022-12-31</th>\n",
       "      <td>-1.165679</td>\n",
       "    </tr>\n",
       "    <tr>\n",
       "      <th>2023-12-31</th>\n",
       "      <td>-2.109954</td>\n",
       "    </tr>\n",
       "  </tbody>\n",
       "</table>\n",
       "</div>"
      ],
      "text/plain": [
       "             log_ret\n",
       "Date                \n",
       "2021-12-31 -1.000660\n",
       "2022-12-31 -1.165679\n",
       "2023-12-31 -2.109954"
      ]
     },
     "execution_count": 23,
     "metadata": {},
     "output_type": "execute_result"
    }
   ],
   "source": [
    "df_y"
   ]
  },
  {
   "cell_type": "code",
   "execution_count": null,
   "id": "113fa591",
   "metadata": {},
   "outputs": [],
   "source": []
  }
 ],
 "metadata": {
  "kernelspec": {
   "display_name": "ecocomp",
   "language": "python",
   "name": "ecocomp"
  },
  "language_info": {
   "codemirror_mode": {
    "name": "ipython",
    "version": 3
   },
   "file_extension": ".py",
   "mimetype": "text/x-python",
   "name": "python",
   "nbconvert_exporter": "python",
   "pygments_lexer": "ipython3",
   "version": "3.10.4"
  }
 },
 "nbformat": 4,
 "nbformat_minor": 5
}
